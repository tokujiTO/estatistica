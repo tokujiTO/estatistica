{
 "cells": [
  {
   "cell_type": "code",
   "execution_count": null,
   "metadata": {},
   "outputs": [],
   "source": [
    "x = 47\n",
    "m = 50\n",
    "dp = 5.5\n",
    "n = 30\n",
    "valorCritico = x - m\n"
   ]
  }
 ],
 "metadata": {
  "language_info": {
   "name": "python"
  }
 },
 "nbformat": 4,
 "nbformat_minor": 2
}
