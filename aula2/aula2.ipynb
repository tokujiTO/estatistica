{
 "cells": [
  {
   "cell_type": "code",
   "execution_count": null,
   "metadata": {},
   "outputs": [],
   "source": []
  }
 ],
 "metadata": {
  "kernelspec": {
   "display_name": "Python 3",
   "language": "python",
   "name": "python3"
  },
  "language_info": {
   "name": "python",
   "version": "3.12.2"
  }
 },
 "nbformat": 4,
 "nbformat_minor": 2
}
      "<class 'pandas.core.series.Series'>\n",
      "RangeIndex: 30 entries, 0 to 29\n",
      "Series name: None\n",
      "Non-Null Count  Dtype\n",
      "--------------  -----\n",
      "30 non-null     int64\n",
      "dtypes: int64(1)\n",
      "memory usage: 372.0 bytes\n",
      "None\n",
      "-=--=--=--=--=--=--=--=--=--=--=--=--=--=--=-\n",
      "count     30.000000\n",
      "mean     159.433333\n",
      "std       69.835612\n",
      "min       65.000000\n",
      "25%      110.500000\n",
      "50%      145.000000\n",
      "75%      197.500000\n",
      "max      340.000000\n",
      "dtype: float64\n"
     ]
    }
   ],
   "source": [
    "import pandas as pd\n",
    "\n",
    "data = pd.Series([128, 100, 180, 150, 200, 90, 340, 105, 85, 270, 200, 65, 230, 150, 150, 120, 130, 80, 230, 200, 110, 126, 170, 132, 140, 112, 90, 340, 170, 190])\n",
    "\n",
    "# Linhas do dataframe\n",
    "print(data.head())\n",
    "print(\"-=-\"*15)\n",
    "\n",
    "# Informações do dataframe\n",
    "print(data.info())\n",
    "print(\"-=-\"*15)\n",
    "\n",
    "# Estatísticas do dataframe\n",
    "print(data.describe())"
   ]
  },
  {
   "cell_type": "code",
   "execution_count": 58,
   "metadata": {},
   "outputs": [
    {
     "name": "stdout",
     "output_type": "stream",
     "text": [
      "Valor máximo: 340\n",
      "Valor mínimo: 65\n"
     ]
    }
   ],
   "source": [
    "v_max = data.max()\n",
    "v_min = data.min()\n",
    "\n",
    "n_classes = 7\n",
    "\n",
    "print(f\"Valor máximo: {v_max}\")\n",
    "print(f\"Valor mínimo: {v_min}\")\n"
   ]
  },
  {
   "cell_type": "code",
   "execution_count": 59,
   "metadata": {},
   "outputs": [
    {
     "name": "stdout",
     "output_type": "stream",
     "text": [
      "(104.286, 143.571]              9\n",
      "(64.72399999999999, 104.286]    6\n",
      "(143.571, 182.857]              6\n",
      "(182.857, 222.143]              4\n",
      "(222.143, 261.429]              2\n",
      "(300.714, 340.0]                2\n",
      "(261.429, 300.714]              1\n",
      "Name: count, dtype: int64\n",
      "-=--=--=--=--=--=--=--=--=--=--=--=--=--=--=-\n",
      "(64.72399999999999, 104.286]    6\n",
      "(104.286, 143.571]              9\n",
      "(143.571, 182.857]              6\n",
      "(182.857, 222.143]              4\n",
      "(222.143, 261.429]              2\n",
      "(261.429, 300.714]              1\n",
      "(300.714, 340.0]                2\n",
      "Name: count, dtype: int64\n"
     ]
    }
   ],
   "source": [
    "dist_freq = data.value_counts(bins=n_classes, sort=True)\n",
    "print(dist_freq)\n",
    "print(\"-=-\"*15)\n",
    "dist_freq = data.value_counts(bins=n_classes).sort_index()\n",
    "print(dist_freq)"
   ]
  },
  {
   "cell_type": "code",
   "execution_count": 60,
   "metadata": {},
   "outputs": [
    {
     "data": {
      "text/html": [
       "<div>\n",
       "<style scoped>\n",
       "    .dataframe tbody tr th:only-of-type {\n",
       "        vertical-align: middle;\n",
       "    }\n",
       "\n",
       "    .dataframe tbody tr th {\n",
       "        vertical-align: top;\n",
       "    }\n",
       "\n",
       "    .dataframe thead th {\n",
       "        text-align: right;\n",
       "    }\n",
       "</style>\n",
       "<table border=\"1\" class=\"dataframe\">\n",
       "  <thead>\n",
       "    <tr style=\"text-align: right;\">\n",
       "      <th></th>\n",
       "      <th>count</th>\n",
       "    </tr>\n",
       "  </thead>\n",
       "  <tbody>\n",
       "    <tr>\n",
       "      <th>(64.72399999999999, 104.286]</th>\n",
       "      <td>6</td>\n",
       "    </tr>\n",
       "    <tr>\n",
       "      <th>(104.286, 143.571]</th>\n",
       "      <td>9</td>\n",
       "    </tr>\n",
       "    <tr>\n",
       "      <th>(143.571, 182.857]</th>\n",
       "      <td>6</td>\n",
       "    </tr>\n",
       "    <tr>\n",
       "      <th>(182.857, 222.143]</th>\n",
       "      <td>4</td>\n",
       "    </tr>\n",
       "    <tr>\n",
       "      <th>(222.143, 261.429]</th>\n",
       "      <td>2</td>\n",
       "    </tr>\n",
       "    <tr>\n",
       "      <th>(261.429, 300.714]</th>\n",
       "      <td>1</td>\n",
       "    </tr>\n",
       "    <tr>\n",
       "      <th>(300.714, 340.0]</th>\n",
       "      <td>2</td>\n",
       "    </tr>\n",
       "  </tbody>\n",
       "</table>\n",
       "</div>"
      ],
      "text/plain": [
       "                              count\n",
       "(64.72399999999999, 104.286]      6\n",
       "(104.286, 143.571]                9\n",
       "(143.571, 182.857]                6\n",
       "(182.857, 222.143]                4\n",
       "(222.143, 261.429]                2\n",
       "(261.429, 300.714]                1\n",
       "(300.714, 340.0]                  2"
      ]
     },
     "metadata": {},
     "output_type": "display_data"
    }
   ],
   "source": [
    "nova_dist_freq = pd.DataFrame(dist_freq)\n",
    "display(nova_dist_freq)\n"
   ]
  },
  {
   "cell_type": "code",
   "execution_count": 61,
   "metadata": {},
   "outputs": [
    {
     "data": {
      "text/html": [
       "<div>\n",
       "<style scoped>\n",
       "    .dataframe tbody tr th:only-of-type {\n",
       "        vertical-align: middle;\n",
       "    }\n",
       "\n",
       "    .dataframe tbody tr th {\n",
       "        vertical-align: top;\n",
       "    }\n",
       "\n",
       "    .dataframe thead th {\n",
       "        text-align: right;\n",
       "    }\n",
       "</style>\n",
       "<table border=\"1\" class=\"dataframe\">\n",
       "  <thead>\n",
       "    <tr style=\"text-align: right;\">\n",
       "      <th></th>\n",
       "      <th>index</th>\n",
       "      <th>count</th>\n",
       "    </tr>\n",
       "  </thead>\n",
       "  <tbody>\n",
       "    <tr>\n",
       "      <th>0</th>\n",
       "      <td>(64.72399999999999, 104.286]</td>\n",
       "      <td>6</td>\n",
       "    </tr>\n",
       "    <tr>\n",
       "      <th>1</th>\n",
       "      <td>(104.286, 143.571]</td>\n",
       "      <td>9</td>\n",
       "    </tr>\n",
       "    <tr>\n",
       "      <th>2</th>\n",
       "      <td>(143.571, 182.857]</td>\n",
       "      <td>6</td>\n",
       "    </tr>\n",
       "    <tr>\n",
       "      <th>3</th>\n",
       "      <td>(182.857, 222.143]</td>\n",
       "      <td>4</td>\n",
       "    </tr>\n",
       "    <tr>\n",
       "      <th>4</th>\n",
       "      <td>(222.143, 261.429]</td>\n",
       "      <td>2</td>\n",
       "    </tr>\n",
       "    <tr>\n",
       "      <th>5</th>\n",
       "      <td>(261.429, 300.714]</td>\n",
       "      <td>1</td>\n",
       "    </tr>\n",
       "    <tr>\n",
       "      <th>6</th>\n",
       "      <td>(300.714, 340.0]</td>\n",
       "      <td>2</td>\n",
       "    </tr>\n",
       "  </tbody>\n",
       "</table>\n",
       "</div>"
      ],
      "text/plain": [
       "                          index  count\n",
       "0  (64.72399999999999, 104.286]      6\n",
       "1            (104.286, 143.571]      9\n",
       "2            (143.571, 182.857]      6\n",
       "3            (182.857, 222.143]      4\n",
       "4            (222.143, 261.429]      2\n",
       "5            (261.429, 300.714]      1\n",
       "6              (300.714, 340.0]      2"
      ]
     },
     "metadata": {},
     "output_type": "display_data"
    }
   ],
   "source": [
    "nova_dist_freq = nova_dist_freq.reset_index()\n",
    "display(nova_dist_freq)\n"
   ]
  },
  {
   "cell_type": "code",
   "execution_count": 62,
   "metadata": {},
   "outputs": [
    {
     "data": {
      "text/html": [
       "<div>\n",
       "<style scoped>\n",
       "    .dataframe tbody tr th:only-of-type {\n",
       "        vertical-align: middle;\n",
       "    }\n",
       "\n",
       "    .dataframe tbody tr th {\n",
       "        vertical-align: top;\n",
       "    }\n",
       "\n",
       "    .dataframe thead th {\n",
       "        text-align: right;\n",
       "    }\n",
       "</style>\n",
       "<table border=\"1\" class=\"dataframe\">\n",
       "  <thead>\n",
       "    <tr style=\"text-align: right;\">\n",
       "      <th></th>\n",
       "      <th>Classe</th>\n",
       "      <th>Frequência</th>\n",
       "    </tr>\n",
       "  </thead>\n",
       "  <tbody>\n",
       "    <tr>\n",
       "      <th>0</th>\n",
       "      <td>(64.72399999999999, 104.286]</td>\n",
       "      <td>6</td>\n",
       "    </tr>\n",
       "    <tr>\n",
       "      <th>1</th>\n",
       "      <td>(104.286, 143.571]</td>\n",
       "      <td>9</td>\n",
       "    </tr>\n",
       "    <tr>\n",
       "      <th>2</th>\n",
       "      <td>(143.571, 182.857]</td>\n",
       "      <td>6</td>\n",
       "    </tr>\n",
       "    <tr>\n",
       "      <th>3</th>\n",
       "      <td>(182.857, 222.143]</td>\n",
       "      <td>4</td>\n",
       "    </tr>\n",
       "    <tr>\n",
       "      <th>4</th>\n",
       "      <td>(222.143, 261.429]</td>\n",
       "      <td>2</td>\n",
       "    </tr>\n",
       "    <tr>\n",
       "      <th>5</th>\n",
       "      <td>(261.429, 300.714]</td>\n",
       "      <td>1</td>\n",
       "    </tr>\n",
       "    <tr>\n",
       "      <th>6</th>\n",
       "      <td>(300.714, 340.0]</td>\n",
       "      <td>2</td>\n",
       "    </tr>\n",
       "  </tbody>\n",
       "</table>\n",
       "</div>"
      ],
      "text/plain": [
       "                         Classe  Frequência\n",
       "0  (64.72399999999999, 104.286]           6\n",
       "1            (104.286, 143.571]           9\n",
       "2            (143.571, 182.857]           6\n",
       "3            (182.857, 222.143]           4\n",
       "4            (222.143, 261.429]           2\n",
       "5            (261.429, 300.714]           1\n",
       "6              (300.714, 340.0]           2"
      ]
     },
     "metadata": {},
     "output_type": "display_data"
    }
   ],
   "source": [
    "nova_dist_freq.columns = [\"Classe\", \"Frequência\"]\n",
    "display(nova_dist_freq)"
   ]
  },
  {
   "cell_type": "code",
   "execution_count": 63,
   "metadata": {},
   "outputs": [
    {
     "name": "stdout",
     "output_type": "stream",
     "text": [
      "Amplitude: 39\n",
      "Intervalos: IntervalIndex([ (65, 104], (104, 143], (143, 182], (182, 221], (221, 260],\n",
      "               (260, 299], (299, 338]],\n",
      "              dtype='interval[int64, right]')\n"
     ]
    },
    {
     "data": {
      "text/html": [
       "<div>\n",
       "<style scoped>\n",
       "    .dataframe tbody tr th:only-of-type {\n",
       "        vertical-align: middle;\n",
       "    }\n",
       "\n",
       "    .dataframe tbody tr th {\n",
       "        vertical-align: top;\n",
       "    }\n",
       "\n",
       "    .dataframe thead th {\n",
       "        text-align: right;\n",
       "    }\n",
       "</style>\n",
       "<table border=\"1\" class=\"dataframe\">\n",
       "  <thead>\n",
       "    <tr style=\"text-align: right;\">\n",
       "      <th></th>\n",
       "      <th>Classe</th>\n",
       "      <th>Frequência</th>\n",
       "    </tr>\n",
       "  </thead>\n",
       "  <tbody>\n",
       "    <tr>\n",
       "      <th>0</th>\n",
       "      <td>(65, 104]</td>\n",
       "      <td>6</td>\n",
       "    </tr>\n",
       "    <tr>\n",
       "      <th>1</th>\n",
       "      <td>(104, 143]</td>\n",
       "      <td>9</td>\n",
       "    </tr>\n",
       "    <tr>\n",
       "      <th>2</th>\n",
       "      <td>(143, 182]</td>\n",
       "      <td>6</td>\n",
       "    </tr>\n",
       "    <tr>\n",
       "      <th>3</th>\n",
       "      <td>(182, 221]</td>\n",
       "      <td>4</td>\n",
       "    </tr>\n",
       "    <tr>\n",
       "      <th>4</th>\n",
       "      <td>(221, 260]</td>\n",
       "      <td>2</td>\n",
       "    </tr>\n",
       "    <tr>\n",
       "      <th>5</th>\n",
       "      <td>(260, 299]</td>\n",
       "      <td>1</td>\n",
       "    </tr>\n",
       "    <tr>\n",
       "      <th>6</th>\n",
       "      <td>(299, 338]</td>\n",
       "      <td>2</td>\n",
       "    </tr>\n",
       "  </tbody>\n",
       "</table>\n",
       "</div>"
      ],
      "text/plain": [
       "       Classe  Frequência\n",
       "0   (65, 104]           6\n",
       "1  (104, 143]           9\n",
       "2  (143, 182]           6\n",
       "3  (182, 221]           4\n",
       "4  (221, 260]           2\n",
       "5  (260, 299]           1\n",
       "6  (299, 338]           2"
      ]
     },
     "metadata": {},
     "output_type": "display_data"
    }
   ],
   "source": [
    "amplitude = round( (v_max - v_min) / n_classes )\n",
    "print(f\"Amplitude: {amplitude}\")\n",
    "\n",
    "intervalos = pd.interval_range(start=v_min, freq=amplitude, end=v_max)\n",
    "print(f'Intervalos: {intervalos}')\n",
    "\n",
    "nova_dist_freq['Classe'] = intervalos\n",
    "display(nova_dist_freq)"
   ]
  },
  {
   "cell_type": "code",
   "execution_count": 64,
   "metadata": {},
   "outputs": [],
   "source": [
    "# from math import ceil \n",
    "# amplitude = ceil( (v_max - v_min) / n_classes )\n",
    "# print(f\"Amplitude: {amplitude}\")\n",
    "\n",
    "# intervalos = pd.interval_range(start=v_min, end=v_max, freq=amplitude)\n",
    "# print(f'Intervalos: {intervalos}')\n",
    "\n",
    "# nova_dist_freq['Classe'] = intervalos\n",
    "# display(nova_dist_freq)"
   ]
  },
  {
   "cell_type": "code",
   "execution_count": 65,
   "metadata": {},
   "outputs": [
    {
     "name": "stdout",
     "output_type": "stream",
     "text": [
      "Amplitude: 40\n",
      "Intervalos: IntervalIndex([ (65, 105], (105, 145], (145, 185], (185, 225], (225, 265],\n",
      "               (265, 305], (305, 345]],\n",
      "              dtype='interval[int64, right]')\n"
     ]
    },
    {
     "data": {
      "text/html": [
       "<div>\n",
       "<style scoped>\n",
       "    .dataframe tbody tr th:only-of-type {\n",
       "        vertical-align: middle;\n",
       "    }\n",
       "\n",
       "    .dataframe tbody tr th {\n",
       "        vertical-align: top;\n",
       "    }\n",
       "\n",
       "    .dataframe thead th {\n",
       "        text-align: right;\n",
       "    }\n",
       "</style>\n",
       "<table border=\"1\" class=\"dataframe\">\n",
       "  <thead>\n",
       "    <tr style=\"text-align: right;\">\n",
       "      <th></th>\n",
       "      <th>Classe</th>\n",
       "      <th>Frequência</th>\n",
       "    </tr>\n",
       "  </thead>\n",
       "  <tbody>\n",
       "    <tr>\n",
       "      <th>0</th>\n",
       "      <td>(65, 105]</td>\n",
       "      <td>6</td>\n",
       "    </tr>\n",
       "    <tr>\n",
       "      <th>1</th>\n",
       "      <td>(105, 145]</td>\n",
       "      <td>9</td>\n",
       "    </tr>\n",
       "    <tr>\n",
       "      <th>2</th>\n",
       "      <td>(145, 185]</td>\n",
       "      <td>6</td>\n",
       "    </tr>\n",
       "    <tr>\n",
       "      <th>3</th>\n",
       "      <td>(185, 225]</td>\n",
       "      <td>4</td>\n",
       "    </tr>\n",
       "    <tr>\n",
       "      <th>4</th>\n",
       "      <td>(225, 265]</td>\n",
       "      <td>2</td>\n",
       "    </tr>\n",
       "    <tr>\n",
       "      <th>5</th>\n",
       "      <td>(265, 305]</td>\n",
       "      <td>1</td>\n",
       "    </tr>\n",
       "    <tr>\n",
       "      <th>6</th>\n",
       "      <td>(305, 345]</td>\n",
       "      <td>2</td>\n",
       "    </tr>\n",
       "  </tbody>\n",
       "</table>\n",
       "</div>"
      ],
      "text/plain": [
       "       Classe  Frequência\n",
       "0   (65, 105]           6\n",
       "1  (105, 145]           9\n",
       "2  (145, 185]           6\n",
       "3  (185, 225]           4\n",
       "4  (225, 265]           2\n",
       "5  (265, 305]           1\n",
       "6  (305, 345]           2"
      ]
     },
     "metadata": {},
     "output_type": "display_data"
    }
   ],
   "source": [
    "from math import ceil\n",
    "amplitude = ceil( (v_max - v_min) / n_classes )\n",
    "print(f\"Amplitude: {amplitude}\")\n",
    "\n",
    "end_corrigido = v_min + amplitude * n_classes\n",
    "\n",
    "intervalos = pd.interval_range(start=v_min, end=end_corrigido, freq=amplitude)\n",
    "print(f'Intervalos: {intervalos}')\n",
    "\n",
    "nova_dist_freq['Classe'] = intervalos\n",
    "display(nova_dist_freq)\n"
   ]
  },
  {
   "cell_type": "code",
   "execution_count": 66,
   "metadata": {},
   "outputs": [
    {
     "name": "stdout",
     "output_type": "stream",
     "text": [
      "[np.float64(85.0), np.float64(125.0), np.float64(165.0), np.float64(205.0), np.float64(245.0), np.float64(285.0), np.float64(325.0)]\n"
     ]
    },
    {
     "data": {
      "text/html": [
       "<div>\n",
       "<style scoped>\n",
       "    .dataframe tbody tr th:only-of-type {\n",
       "        vertical-align: middle;\n",
       "    }\n",
       "\n",
       "    .dataframe tbody tr th {\n",
       "        vertical-align: top;\n",
       "    }\n",
       "\n",
       "    .dataframe thead th {\n",
       "        text-align: right;\n",
       "    }\n",
       "</style>\n",
       "<table border=\"1\" class=\"dataframe\">\n",
       "  <thead>\n",
       "    <tr style=\"text-align: right;\">\n",
       "      <th></th>\n",
       "      <th>Classe</th>\n",
       "      <th>Frequência</th>\n",
       "      <th>Ponto Médio</th>\n",
       "    </tr>\n",
       "  </thead>\n",
       "  <tbody>\n",
       "    <tr>\n",
       "      <th>0</th>\n",
       "      <td>(65, 105]</td>\n",
       "      <td>6</td>\n",
       "      <td>85.0</td>\n",
       "    </tr>\n",
       "    <tr>\n",
       "      <th>1</th>\n",
       "      <td>(105, 145]</td>\n",
       "      <td>9</td>\n",
       "      <td>125.0</td>\n",
       "    </tr>\n",
       "    <tr>\n",
       "      <th>2</th>\n",
       "      <td>(145, 185]</td>\n",
       "      <td>6</td>\n",
       "      <td>165.0</td>\n",
       "    </tr>\n",
       "    <tr>\n",
       "      <th>3</th>\n",
       "      <td>(185, 225]</td>\n",
       "      <td>4</td>\n",
       "      <td>205.0</td>\n",
       "    </tr>\n",
       "    <tr>\n",
       "      <th>4</th>\n",
       "      <td>(225, 265]</td>\n",
       "      <td>2</td>\n",
       "      <td>245.0</td>\n",
       "    </tr>\n",
       "    <tr>\n",
       "      <th>5</th>\n",
       "      <td>(265, 305]</td>\n",
       "      <td>1</td>\n",
       "      <td>285.0</td>\n",
       "    </tr>\n",
       "    <tr>\n",
       "      <th>6</th>\n",
       "      <td>(305, 345]</td>\n",
       "      <td>2</td>\n",
       "      <td>325.0</td>\n",
       "    </tr>\n",
       "  </tbody>\n",
       "</table>\n",
       "</div>"
      ],
      "text/plain": [
       "       Classe  Frequência  Ponto Médio\n",
       "0   (65, 105]           6         85.0\n",
       "1  (105, 145]           9        125.0\n",
       "2  (145, 185]           6        165.0\n",
       "3  (185, 225]           4        205.0\n",
       "4  (225, 265]           2        245.0\n",
       "5  (265, 305]           1        285.0\n",
       "6  (305, 345]           2        325.0"
      ]
     },
     "metadata": {},
     "output_type": "display_data"
    },
    {
     "data": {
      "text/html": [
       "<div>\n",
       "<style scoped>\n",
       "    .dataframe tbody tr th:only-of-type {\n",
       "        vertical-align: middle;\n",
       "    }\n",
       "\n",
       "    .dataframe tbody tr th {\n",
       "        vertical-align: top;\n",
       "    }\n",
       "\n",
       "    .dataframe thead th {\n",
       "        text-align: right;\n",
       "    }\n",
       "</style>\n",
       "<table border=\"1\" class=\"dataframe\">\n",
       "  <thead>\n",
       "    <tr style=\"text-align: right;\">\n",
       "      <th></th>\n",
       "      <th>Classe</th>\n",
       "      <th>Frequência</th>\n",
       "      <th>Ponto Médio</th>\n",
       "      <th>Frequência Relativa</th>\n",
       "      <th>Frequência Acumulada</th>\n",
       "    </tr>\n",
       "  </thead>\n",
       "  <tbody>\n",
       "    <tr>\n",
       "      <th>0</th>\n",
       "      <td>(65, 105]</td>\n",
       "      <td>6</td>\n",
       "      <td>85.0</td>\n",
       "      <td>0.200000</td>\n",
       "      <td>6</td>\n",
       "    </tr>\n",
       "    <tr>\n",
       "      <th>1</th>\n",
       "      <td>(105, 145]</td>\n",
       "      <td>9</td>\n",
       "      <td>125.0</td>\n",
       "      <td>0.300000</td>\n",
       "      <td>15</td>\n",
       "    </tr>\n",
       "    <tr>\n",
       "      <th>2</th>\n",
       "      <td>(145, 185]</td>\n",
       "      <td>6</td>\n",
       "      <td>165.0</td>\n",
       "      <td>0.200000</td>\n",
       "      <td>21</td>\n",
       "    </tr>\n",
       "    <tr>\n",
       "      <th>3</th>\n",
       "      <td>(185, 225]</td>\n",
       "      <td>4</td>\n",
       "      <td>205.0</td>\n",
       "      <td>0.133333</td>\n",
       "      <td>25</td>\n",
       "    </tr>\n",
       "    <tr>\n",
       "      <th>4</th>\n",
       "      <td>(225, 265]</td>\n",
       "      <td>2</td>\n",
       "      <td>245.0</td>\n",
       "      <td>0.066667</td>\n",
       "      <td>27</td>\n",
       "    </tr>\n",
       "    <tr>\n",
       "      <th>5</th>\n",
       "      <td>(265, 305]</td>\n",
       "      <td>1</td>\n",
       "      <td>285.0</td>\n",
       "      <td>0.033333</td>\n",
       "      <td>28</td>\n",
       "    </tr>\n",
       "    <tr>\n",
       "      <th>6</th>\n",
       "      <td>(305, 345]</td>\n",
       "      <td>2</td>\n",
       "      <td>325.0</td>\n",
       "      <td>0.066667</td>\n",
       "      <td>30</td>\n",
       "    </tr>\n",
       "  </tbody>\n",
       "</table>\n",
       "</div>"
      ],
      "text/plain": [
       "       Classe  Frequência  Ponto Médio  Frequência Relativa  \\\n",
       "0   (65, 105]           6         85.0             0.200000   \n",
       "1  (105, 145]           9        125.0             0.300000   \n",
       "2  (145, 185]           6        165.0             0.200000   \n",
       "3  (185, 225]           4        205.0             0.133333   \n",
       "4  (225, 265]           2        245.0             0.066667   \n",
       "5  (265, 305]           1        285.0             0.033333   \n",
       "6  (305, 345]           2        325.0             0.066667   \n",
       "\n",
       "   Frequência Acumulada  \n",
       "0                     6  \n",
       "1                    15  \n",
       "2                    21  \n",
       "3                    25  \n",
       "4                    27  \n",
       "5                    28  \n",
       "6                    30  "
      ]
     },
     "metadata": {},
     "output_type": "display_data"
    }
   ],
   "source": [
    "pts_medios = [inter.mid for inter in intervalos]\n",
    "print(pts_medios)\n",
    "\n",
    "nova_dist_freq['Ponto Médio'] = pts_medios\n",
    "display(nova_dist_freq)\n",
    "\n",
    "observacoes = len(data)\n",
    "\n",
    "nova_dist_freq['Frequência Relativa'] = nova_dist_freq['Frequência'] / observacoes\n",
    "\n",
    "nova_dist_freq['Frequência Acumulada'] = nova_dist_freq['Frequência'].cumsum()\n",
    "display(nova_dist_freq)\n"
   ]
  },
  {
   "cell_type": "code",
   "execution_count": 67,
   "metadata": {},
   "outputs": [
    {
     "data": {
      "image/png": "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",
      "text/plain": [
       "<Figure size 640x480 with 1 Axes>"
      ]
     },
     "metadata": {},
     "output_type": "display_data"
    }
   ],
   "source": [
    "# CONSTRUÇÃO DE HISTOGRAMA\n",
    "import matplotlib.pyplot as plt\n",
    "\n",
    "classes = [inter.left for inter in intervalos]\n",
    "\n",
    "classes.append(v_max)\n",
    "\n",
    "histograma = data.hist(bins=[inter.left for inter in intervalos]+[v_max], color='blue', edgecolor='black', grid=False)\n",
    "\n",
    "histograma.set(xlabel='Preço [US$]', ylabel='Frequência - Número de navegadores GPS', title='Distribuição de frequências dos preços de GPS', xticks=nova_dist_freq['Ponto Médio'], yticks=range(0, nova_dist_freq['Frequência'].max()+2, 2))\n",
    "\n",
    "plt.show()"
   ]
  },
  {
   "cell_type": "code",
   "execution_count": 68,
   "metadata": {},
   "outputs": [
    {
     "data": {
      "image/png": "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",
      "text/plain": [
       "<Figure size 640x480 with 1 Axes>"
      ]
     },
     "metadata": {},
     "output_type": "display_data"
    }
   ],
   "source": [
    "bins = [inter.left for inter in intervalos]\n",
    "bins.append(v_max)\n",
    "\n",
    "histograma = data.hist(\n",
    "  bins=bins,\n",
    "  color='green',\n",
    "  edgecolor='black',\n",
    "  grid=False\n",
    ")\n",
    "\n",
    "histograma.set(xlabel='Preços [US$]', ylabel='Frequência - Número de navegadores GPS', title='Distribuição de frequências dos preços de GPS', xticks=nova_dist_freq['Ponto Médio'], yticks=range(0, nova_dist_freq['Frequência'].max()+2, 2))\n",
    "\n",
    "# rotulos\n",
    "barras = histograma.patches\n",
    "freqs = nova_dist_freq['Frequência']\n",
    "for barra, freq in zip(barras, freqs):\n",
    "  altura = barra.get_height()\n",
    "  histograma.text(x=barra.get_x() + barra.get_width()/2, y=altura+0.1, s=freq, ha='center', va='bottom')\n",
    "\n",
    "plt.show()"
   ]
  },
  {
   "cell_type": "code",
   "execution_count": 69,
   "metadata": {},
   "outputs": [
    {
     "name": "stdout",
     "output_type": "stream",
     "text": [
      "Ponto médio fictício à esquerda = 45.0\n",
      "Ponto médio fictício à direita = 365.0\n"
     ]
    }
   ],
   "source": [
    "fic_esq = [pts_medios[0]-amplitude]\n",
    "print(f'Ponto médio fictício à esquerda = {fic_esq[0]}')\n",
    "\n",
    "fic_dir = [pts_medios[-1]+amplitude]\n",
    "print(f'Ponto médio fictício à direita = {fic_dir[0]}')\n"
   ]
  },
  {
   "cell_type": "code",
   "execution_count": 70,
   "metadata": {},
   "outputs": [
    {
     "name": "stdout",
     "output_type": "stream",
     "text": [
      "Valores para eixo x: [np.float64(45.0), 85.0, 125.0, 165.0, 205.0, 245.0, 285.0, 325.0, np.float64(365.0)]\n",
      "Valores para o eixo y: [0, 6, 9, 6, 4, 2, 1, 2, 0]\n"
     ]
    }
   ],
   "source": [
    "x_data = fic_esq + list(nova_dist_freq['Ponto Médio']) + fic_dir\n",
    "print(f'Valores para eixo x: {x_data}')\n",
    "\n",
    "y_data = [0] + list(nova_dist_freq['Frequência']) + [0]\n",
    "print(f'Valores para o eixo y: {y_data}')\n"
   ]
  },
  {
   "cell_type": "code",
   "execution_count": 71,
   "metadata": {},
   "outputs": [
    {
     "data": {
      "image/png": "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",
      "text/plain": [
       "<Figure size 640x480 with 1 Axes>"
      ]
     },
     "metadata": {},
     "output_type": "display_data"
    }
   ],
   "source": [
    "plt.plot(x_data,y_data, 'go--')\n",
    "plt.xlabel('Preços [US$]')\n",
    "plt.ylabel('Frequência - Número de navegadores GPS')\n",
    "plt.title('Distribuição de frequências dos preços de GPS')\n",
    "plt.xticks(x_data)\n",
    "plt.yticks(range(0, nova_dist_freq['Frequência'].max()+2, 2))\n",
    "plt.grid()"
   ]
  },
  {
   "cell_type": "code",
   "execution_count": 72,
   "metadata": {},
   "outputs": [
    {
     "data": {
      "image/png": "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",
      "text/plain": [
       "<Figure size 640x480 with 1 Axes>"
      ]
     },
     "metadata": {},
     "output_type": "display_data"
    }
   ],
   "source": [
    "y_data_rel = [y/sum(y_data) for y in y_data]\n",
    "plt.plot(x_data, y_data_rel, 'ro--')\n",
    "plt.xlabel('Preço [US$]')\n",
    "plt.ylabel(\"Frequência relativa\")\n",
    "plt.title(\"Distribuição de frequências dos preços de GPS\")\n",
    "plt.xticks(x_data)\n",
    "plt.grid()\n"
   ]
  },
  {
   "cell_type": "code",
   "execution_count": null,
   "metadata": {},
   "outputs": [],
   "source": []
  }
 ],
 "metadata": {
  "kernelspec": {
   "display_name": "Python 3",
   "language": "python",
   "name": "python3"
  },
  "language_info": {
   "codemirror_mode": {
    "name": "ipython",
    "version": 3
   },
   "file_extension": ".py",
   "mimetype": "text/x-python",
   "name": "python",
   "nbconvert_exporter": "python",
   "pygments_lexer": "ipython3",
   "version": "3.12.2"
  }
 },
 "nbformat": 4,
 "nbformat_minor": 2
}
