{
 "cells": [
  {
   "cell_type": "code",
   "execution_count": 4,
   "metadata": {},
   "outputs": [],
   "source": [
    "import pandas as pd"
   ]
  },
  {
   "cell_type": "code",
   "execution_count": 5,
   "metadata": {},
   "outputs": [
    {
     "name": "stdout",
     "output_type": "stream",
     "text": [
      "0    274\n",
      "1    235\n",
      "2    223\n",
      "3    268\n",
      "4    290\n",
      "dtype: int64\n",
      "=-==-==-==-==-==-==-==-==-==-==-==-==-==-==-==-==-==-==-==-=\n",
      "count      7.000000\n",
      "mean     258.571429\n",
      "std       27.048457\n",
      "min      223.000000\n",
      "25%      235.000000\n",
      "50%      268.000000\n",
      "75%      279.500000\n",
      "max      290.000000\n",
      "dtype: float64\n"
     ]
    }
   ],
   "source": [
    "data = pd.Series([274, 235, 223, 268, 290, 285, 235])\n",
    "print(data.head())\n",
    "print(\"=-=\" *20)\n",
    "print(data.describe())\n"
   ]
  },
  {
   "cell_type": "code",
   "execution_count": 6,
   "metadata": {},
   "outputs": [
    {
     "name": "stdout",
     "output_type": "stream",
     "text": [
      "258.57142857142856\n"
     ]
    }
   ],
   "source": [
    "media = data.mean()\n",
    "print(media)"
   ]
  },
  {
   "cell_type": "code",
   "execution_count": 7,
   "metadata": {},
   "outputs": [
    {
     "name": "stdout",
     "output_type": "stream",
     "text": [
      "258.57\n"
     ]
    }
   ],
   "source": [
    "print(f'{media:.2f}')"
   ]
  },
  {
   "cell_type": "code",
   "execution_count": 8,
   "metadata": {},
   "outputs": [
    {
     "data": {
      "text/html": [
       "<div>\n",
       "<style scoped>\n",
       "    .dataframe tbody tr th:only-of-type {\n",
       "        vertical-align: middle;\n",
       "    }\n",
       "\n",
       "    .dataframe tbody tr th {\n",
       "        vertical-align: top;\n",
       "    }\n",
       "\n",
       "    .dataframe thead th {\n",
       "        text-align: right;\n",
       "    }\n",
       "</style>\n",
       "<table border=\"1\" class=\"dataframe\">\n",
       "  <thead>\n",
       "    <tr style=\"text-align: right;\">\n",
       "      <th></th>\n",
       "      <th>Fonte</th>\n",
       "      <th>Nota, x</th>\n",
       "      <th>Peso, w</th>\n",
       "    </tr>\n",
       "  </thead>\n",
       "  <tbody>\n",
       "    <tr>\n",
       "      <th>0</th>\n",
       "      <td>Média do Teste</td>\n",
       "      <td>86</td>\n",
       "      <td>0.50</td>\n",
       "    </tr>\n",
       "    <tr>\n",
       "      <th>1</th>\n",
       "      <td>Prova Bimestral</td>\n",
       "      <td>96</td>\n",
       "      <td>0.15</td>\n",
       "    </tr>\n",
       "    <tr>\n",
       "      <th>2</th>\n",
       "      <td>Prova Final</td>\n",
       "      <td>82</td>\n",
       "      <td>0.20</td>\n",
       "    </tr>\n",
       "    <tr>\n",
       "      <th>3</th>\n",
       "      <td>Informática</td>\n",
       "      <td>98</td>\n",
       "      <td>0.10</td>\n",
       "    </tr>\n",
       "    <tr>\n",
       "      <th>4</th>\n",
       "      <td>Dever de Casa</td>\n",
       "      <td>100</td>\n",
       "      <td>0.05</td>\n",
       "    </tr>\n",
       "  </tbody>\n",
       "</table>\n",
       "</div>"
      ],
      "text/plain": [
       "             Fonte  Nota, x  Peso, w\n",
       "0   Média do Teste       86     0.50\n",
       "1  Prova Bimestral       96     0.15\n",
       "2      Prova Final       82     0.20\n",
       "3      Informática       98     0.10\n",
       "4    Dever de Casa      100     0.05"
      ]
     },
     "metadata": {},
     "output_type": "display_data"
    },
    {
     "name": "stdout",
     "output_type": "stream",
     "text": [
      "Peso total: 1.0\n"
     ]
    }
   ],
   "source": [
    "dados = {\n",
    "  'Fonte': ['Média do Teste', 'Prova Bimestral', 'Prova Final', 'Informática', 'Dever de Casa'],\n",
    "  'Nota, x': [86, 96, 82, 98, 100],\n",
    "  'Peso, w': [0.5, 0.15, 0.2, 0.1, 0.05]\n",
    "}\n",
    "\n",
    "df = pd.DataFrame(dados)\n",
    "display(df)\n",
    "\n",
    "peso = df['Peso, w'].sum()\n",
    "print(f'Peso total: {peso}')"
   ]
  },
  {
   "cell_type": "code",
   "execution_count": 9,
   "metadata": {},
   "outputs": [
    {
     "data": {
      "text/html": [
       "<div>\n",
       "<style scoped>\n",
       "    .dataframe tbody tr th:only-of-type {\n",
       "        vertical-align: middle;\n",
       "    }\n",
       "\n",
       "    .dataframe tbody tr th {\n",
       "        vertical-align: top;\n",
       "    }\n",
       "\n",
       "    .dataframe thead th {\n",
       "        text-align: right;\n",
       "    }\n",
       "</style>\n",
       "<table border=\"1\" class=\"dataframe\">\n",
       "  <thead>\n",
       "    <tr style=\"text-align: right;\">\n",
       "      <th></th>\n",
       "      <th>Fonte</th>\n",
       "      <th>Nota, x</th>\n",
       "      <th>Peso, w</th>\n",
       "      <th>x.w</th>\n",
       "    </tr>\n",
       "  </thead>\n",
       "  <tbody>\n",
       "    <tr>\n",
       "      <th>0</th>\n",
       "      <td>Média do Teste</td>\n",
       "      <td>86</td>\n",
       "      <td>0.50</td>\n",
       "      <td>43.0</td>\n",
       "    </tr>\n",
       "    <tr>\n",
       "      <th>1</th>\n",
       "      <td>Prova Bimestral</td>\n",
       "      <td>96</td>\n",
       "      <td>0.15</td>\n",
       "      <td>14.4</td>\n",
       "    </tr>\n",
       "    <tr>\n",
       "      <th>2</th>\n",
       "      <td>Prova Final</td>\n",
       "      <td>82</td>\n",
       "      <td>0.20</td>\n",
       "      <td>16.4</td>\n",
       "    </tr>\n",
       "    <tr>\n",
       "      <th>3</th>\n",
       "      <td>Informática</td>\n",
       "      <td>98</td>\n",
       "      <td>0.10</td>\n",
       "      <td>9.8</td>\n",
       "    </tr>\n",
       "    <tr>\n",
       "      <th>4</th>\n",
       "      <td>Dever de Casa</td>\n",
       "      <td>100</td>\n",
       "      <td>0.05</td>\n",
       "      <td>5.0</td>\n",
       "    </tr>\n",
       "  </tbody>\n",
       "</table>\n",
       "</div>"
      ],
      "text/plain": [
       "             Fonte  Nota, x  Peso, w   x.w\n",
       "0   Média do Teste       86     0.50  43.0\n",
       "1  Prova Bimestral       96     0.15  14.4\n",
       "2      Prova Final       82     0.20  16.4\n",
       "3      Informática       98     0.10   9.8\n",
       "4    Dever de Casa      100     0.05   5.0"
      ]
     },
     "metadata": {},
     "output_type": "display_data"
    },
    {
     "name": "stdout",
     "output_type": "stream",
     "text": [
      "Nota final: 88.60\n",
      "Não obteve conceito A\n"
     ]
    }
   ],
   "source": [
    "df['x.w'] = df['Nota, x'] * df['Peso, w']\n",
    "display(df)\n",
    "\n",
    "nota_final = df['x.w'].sum()\n",
    "print(f\"Nota final: {nota_final:.2f}\")\n",
    "\n",
    "if nota_final >= 90:\n",
    "  print('Obteve conceito A')\n",
    "else:\n",
    "  print('Não obteve conceito A')"
   ]
  },
  {
   "cell_type": "code",
   "execution_count": 10,
   "metadata": {},
   "outputs": [
    {
     "name": "stdout",
     "output_type": "stream",
     "text": [
      "268.0\n"
     ]
    }
   ],
   "source": [
    "data = pd.Series([274, 235, 223, 268, 290, 285, 235])\n",
    "\n",
    "mediana = data.median()\n",
    "print(mediana)\n"
   ]
  },
  {
   "cell_type": "code",
   "execution_count": 11,
   "metadata": {},
   "outputs": [
    {
     "name": "stdout",
     "output_type": "stream",
     "text": [
      "A nova mediana é 251.5\n"
     ]
    }
   ],
   "source": [
    "data_novo = data.drop(data[data == 285].index[0])\n",
    "\n",
    "mediana = data_novo.median()\n",
    "print(f\"A nova mediana é {mediana}\")"
   ]
  },
  {
   "cell_type": "code",
   "execution_count": 12,
   "metadata": {},
   "outputs": [
    {
     "name": "stdout",
     "output_type": "stream",
     "text": [
      "[235]\n",
      "235\n",
      "235\n"
     ]
    }
   ],
   "source": [
    "data = pd.Series([274, 235, 223, 268, 290, 285, 235])\n",
    "\n",
    "moda = list(data.mode())\n",
    "print(moda)\n",
    "print(moda[0])\n",
    "\n",
    "moda = data.mode().iloc[0]\n",
    "print(moda)"
   ]
  },
  {
   "cell_type": "code",
   "execution_count": 13,
   "metadata": {},
   "outputs": [
    {
     "data": {
      "text/html": [
       "<div>\n",
       "<style scoped>\n",
       "    .dataframe tbody tr th:only-of-type {\n",
       "        vertical-align: middle;\n",
       "    }\n",
       "\n",
       "    .dataframe tbody tr th {\n",
       "        vertical-align: top;\n",
       "    }\n",
       "\n",
       "    .dataframe thead th {\n",
       "        text-align: right;\n",
       "    }\n",
       "</style>\n",
       "<table border=\"1\" class=\"dataframe\">\n",
       "  <thead>\n",
       "    <tr style=\"text-align: right;\">\n",
       "      <th></th>\n",
       "      <th>0</th>\n",
       "    </tr>\n",
       "  </thead>\n",
       "  <tbody>\n",
       "    <tr>\n",
       "      <th>0</th>\n",
       "      <td>20</td>\n",
       "    </tr>\n",
       "    <tr>\n",
       "      <th>1</th>\n",
       "      <td>20</td>\n",
       "    </tr>\n",
       "    <tr>\n",
       "      <th>2</th>\n",
       "      <td>20</td>\n",
       "    </tr>\n",
       "    <tr>\n",
       "      <th>3</th>\n",
       "      <td>20</td>\n",
       "    </tr>\n",
       "    <tr>\n",
       "      <th>4</th>\n",
       "      <td>20</td>\n",
       "    </tr>\n",
       "    <tr>\n",
       "      <th>5</th>\n",
       "      <td>20</td>\n",
       "    </tr>\n",
       "    <tr>\n",
       "      <th>6</th>\n",
       "      <td>21</td>\n",
       "    </tr>\n",
       "    <tr>\n",
       "      <th>7</th>\n",
       "      <td>21</td>\n",
       "    </tr>\n",
       "    <tr>\n",
       "      <th>8</th>\n",
       "      <td>21</td>\n",
       "    </tr>\n",
       "    <tr>\n",
       "      <th>9</th>\n",
       "      <td>21</td>\n",
       "    </tr>\n",
       "    <tr>\n",
       "      <th>10</th>\n",
       "      <td>22</td>\n",
       "    </tr>\n",
       "    <tr>\n",
       "      <th>11</th>\n",
       "      <td>22</td>\n",
       "    </tr>\n",
       "    <tr>\n",
       "      <th>12</th>\n",
       "      <td>22</td>\n",
       "    </tr>\n",
       "    <tr>\n",
       "      <th>13</th>\n",
       "      <td>23</td>\n",
       "    </tr>\n",
       "    <tr>\n",
       "      <th>14</th>\n",
       "      <td>23</td>\n",
       "    </tr>\n",
       "    <tr>\n",
       "      <th>15</th>\n",
       "      <td>23</td>\n",
       "    </tr>\n",
       "    <tr>\n",
       "      <th>16</th>\n",
       "      <td>23</td>\n",
       "    </tr>\n",
       "    <tr>\n",
       "      <th>17</th>\n",
       "      <td>24</td>\n",
       "    </tr>\n",
       "    <tr>\n",
       "      <th>18</th>\n",
       "      <td>24</td>\n",
       "    </tr>\n",
       "    <tr>\n",
       "      <th>19</th>\n",
       "      <td>65</td>\n",
       "    </tr>\n",
       "  </tbody>\n",
       "</table>\n",
       "</div>"
      ],
      "text/plain": [
       "     0\n",
       "0   20\n",
       "1   20\n",
       "2   20\n",
       "3   20\n",
       "4   20\n",
       "5   20\n",
       "6   21\n",
       "7   21\n",
       "8   21\n",
       "9   21\n",
       "10  22\n",
       "11  22\n",
       "12  22\n",
       "13  23\n",
       "14  23\n",
       "15  23\n",
       "16  23\n",
       "17  24\n",
       "18  24\n",
       "19  65"
      ]
     },
     "metadata": {},
     "output_type": "display_data"
    }
   ],
   "source": [
    "data = pd.Series([20, 20, 20, 20, 20, 20, 21,\n",
    "21   , 21  ,  21   , 22 ,   22 ,   22 ,   23,\n",
    "23   , 23  ,  23  ,  24  ,  24  ,  65 ])\n",
    "df = pd.DataFrame(data)\n",
    "display(df)"
   ]
  },
  {
   "cell_type": "code",
   "execution_count": 14,
   "metadata": {},
   "outputs": [
    {
     "name": "stdout",
     "output_type": "stream",
     "text": [
      "A media foi: 23.75\n",
      "A mediana foi: 21.50\n",
      "A moda foi: 20.00\n"
     ]
    }
   ],
   "source": [
    "media = data.mean()\n",
    "\n",
    "mediana = data.median()\n",
    "\n",
    "moda = data.mode().iloc[0]\n",
    "\n",
    "print(f\"A media foi: {media:.2f}\\nA mediana foi: {mediana:.2f}\\nA moda foi: {moda:.2f}\")"
   ]
  },
  {
   "cell_type": "code",
   "execution_count": 26,
   "metadata": {},
   "outputs": [
    {
     "data": {
      "image/png": "[encoded data removed]",
      "text/plain": [
       "<Figure size 640x480 with 1 Axes>"
      ]
     },
     "metadata": {},
     "output_type": "display_data"
    }
   ],
   "source": [
    "import matplotlib.pyplot as plt\n",
    "\n",
    "histograma = data.plot.hist(bins = range(data.min(), data.max()+1), color = 'blue', edgecolor = 'black')\n",
    "\n",
    "histograma.set_xlabel(\"Idade\")\n",
    "histograma.set_ylabel(\"Frequência\")\n",
    "histograma.set_title(\"Distribuição das idades em uma turma de alunos\")\n",
    "histograma.set_xticks(range(data.min() , data.max()+1, 5))\n",
    "histograma.xaxis.set_minor_locator(plt.MultipleLocator(1))\n",
    "\n",
    "plt.show()"
   ]
  },
  {
   "cell_type": "code",
   "execution_count": 16,
   "metadata": {},
   "outputs": [
    {
     "name": "stdout",
     "output_type": "stream",
     "text": [
      "count     15.000000\n",
      "mean      26.333333\n",
      "std       26.407971\n",
      "min        6.000000\n",
      "25%        9.500000\n",
      "50%       16.000000\n",
      "75%       28.000000\n",
      "max      104.000000\n",
      "dtype: float64\n",
      "\n",
      "Dados ordenados: [  6   7   8   9  10  15  16  16  20  20  23  33  50  58 104]\n",
      "\n",
      "Primeiro quartil (Q1): 9\n",
      "Segundo quartil (Q2) ou mediana: 16.0\n",
      "Terceiro quartil (Q3): 33\n"
     ]
    }
   ],
   "source": [
    "dados = pd.Series([7, 20, 16, 6, 58, 9, 20, 50, 23, 33, 8, 10, 15, 16, 104])\n",
    "\n",
    "dados_ordenados = dados.sort_values()\n",
    "print(dados.describe())\n",
    "\n",
    "print('\\nDados ordenados:', dados_ordenados.values)\n",
    "\n",
    "Q1 = dados.quantile(0.25, interpolation='lower')\n",
    "print(f'\\nPrimeiro quartil (Q1): {Q1}')\n",
    "\n",
    "Q2 = dados.quantile(0.50)\n",
    "print(f\"Segundo quartil (Q2) ou mediana: {Q2}\")\n",
    "\n",
    "Q3 = dados.quantile(0.75, interpolation='higher')\n",
    "print(f\"Terceiro quartil (Q3): {Q3}\")"
   ]
  },
  {
   "cell_type": "code",
   "execution_count": 17,
   "metadata": {},
   "outputs": [
    {
     "name": "stdout",
     "output_type": "stream",
     "text": [
      "Dados ordenados: [19 22 23 23 26 26 27 27 27 30 31 32 32 33 34 34 38 38 40 41 42 44 45 45\n",
      " 46]\n"
     ]
    },
    {
     "data": {
      "text/plain": [
       "0       4.0\n",
       "1       8.0\n",
       "2      14.0\n",
       "3      14.0\n",
       "4      22.0\n",
       "5      22.0\n",
       "6      32.0\n",
       "7      32.0\n",
       "8      32.0\n",
       "9      40.0\n",
       "10     44.0\n",
       "11     50.0\n",
       "12     50.0\n",
       "13     56.0\n",
       "14     62.0\n",
       "15     62.0\n",
       "16     70.0\n",
       "17     70.0\n",
       "18     76.0\n",
       "19     80.0\n",
       "20     84.0\n",
       "21     88.0\n",
       "22     94.0\n",
       "23     94.0\n",
       "24    100.0\n",
       "dtype: float64"
      ]
     },
     "metadata": {},
     "output_type": "display_data"
    },
    {
     "name": "stdout",
     "output_type": "stream",
     "text": [
      "\n",
      "O percentil correspondente a US$ 30 mil é aproximadamente 40.00%.\n"
     ]
    }
   ],
   "source": [
    "dados = pd.Series([19, 22, 23, 23, 26, 26, 27, 27, 27, 30, 31, 32, 32, 33, 34, 34, 38, 38, 40, 41, 42, 44, 45, 45, 46])\n",
    "\n",
    "dados_ordenados = dados.sort_values()\n",
    "\n",
    "print(\"Dados ordenados:\", dados_ordenados.values)\n",
    "\n",
    "valor_interesse = 30\n",
    "\n",
    "percentil = dados.rank(pct=True).loc[dados == valor_interesse].iloc[0] * 100\n",
    "display(dados.rank(pct=True) * 100)\n",
    "\n",
    "print(f\"\\nO percentil correspondente a US$ {valor_interesse} mil é aproximadamente {percentil:.2f}%.\")"
   ]
  },
  {
   "cell_type": "code",
   "execution_count": 18,
   "metadata": {},
   "outputs": [
    {
     "name": "stdout",
     "output_type": "stream",
     "text": [
      "\n",
      "escore-z para homens com 170 cm: -1.00\n",
      "\n",
      "escore-z para mulheres com 170 cm: 1.02\n"
     ]
    }
   ],
   "source": [
    "m_homens = 177.6\n",
    "m_mulheres = 163.3\n",
    "sigma_homens = 7.6\n",
    "sigma_mulheres = 6.6\n",
    "\n",
    "x = 170\n",
    "\n",
    "z_homens = (x - m_homens)/ sigma_homens\n",
    "\n",
    "z_mulheres = (x - m_mulheres)/ sigma_mulheres\n",
    "\n",
    "print(f\"\\nescore-z para homens com {x} cm: {z_homens:.2f}\")\n",
    "print(f\"\\nescore-z para mulheres com {x} cm: {z_mulheres:.2f}\")"
   ]
  },
  {
   "cell_type": "code",
   "execution_count": 31,
   "metadata": {},
   "outputs": [
    {
     "data": {
      "text/html": [
       "<div>\n",
       "<style scoped>\n",
       "    .dataframe tbody tr th:only-of-type {\n",
       "        vertical-align: middle;\n",
       "    }\n",
       "\n",
       "    .dataframe tbody tr th {\n",
       "        vertical-align: top;\n",
       "    }\n",
       "\n",
       "    .dataframe thead th {\n",
       "        text-align: right;\n",
       "    }\n",
       "</style>\n",
       "<table border=\"1\" class=\"dataframe\">\n",
       "  <thead>\n",
       "    <tr style=\"text-align: right;\">\n",
       "      <th></th>\n",
       "      <th>Nome_item</th>\n",
       "      <th>preco</th>\n",
       "      <th>peso</th>\n",
       "    </tr>\n",
       "  </thead>\n",
       "  <tbody>\n",
       "    <tr>\n",
       "      <th>0</th>\n",
       "      <td>chocolate</td>\n",
       "      <td>90</td>\n",
       "      <td>4</td>\n",
       "    </tr>\n",
       "    <tr>\n",
       "      <th>1</th>\n",
       "      <td>chocolate</td>\n",
       "      <td>50</td>\n",
       "      <td>2</td>\n",
       "    </tr>\n",
       "    <tr>\n",
       "      <th>2</th>\n",
       "      <td>chocolate</td>\n",
       "      <td>86</td>\n",
       "      <td>3</td>\n",
       "    </tr>\n",
       "    <tr>\n",
       "      <th>3</th>\n",
       "      <td>biscoito</td>\n",
       "      <td>87</td>\n",
       "      <td>5</td>\n",
       "    </tr>\n",
       "    <tr>\n",
       "      <th>4</th>\n",
       "      <td>biscoito</td>\n",
       "      <td>42</td>\n",
       "      <td>6</td>\n",
       "    </tr>\n",
       "    <tr>\n",
       "      <th>5</th>\n",
       "      <td>biscoito</td>\n",
       "      <td>48</td>\n",
       "      <td>5</td>\n",
       "    </tr>\n",
       "    <tr>\n",
       "      <th>6</th>\n",
       "      <td>sorvete</td>\n",
       "      <td>68</td>\n",
       "      <td>3</td>\n",
       "    </tr>\n",
       "    <tr>\n",
       "      <th>7</th>\n",
       "      <td>sorvete</td>\n",
       "      <td>92</td>\n",
       "      <td>7</td>\n",
       "    </tr>\n",
       "    <tr>\n",
       "      <th>8</th>\n",
       "      <td>sorvete</td>\n",
       "      <td>102</td>\n",
       "      <td>5</td>\n",
       "    </tr>\n",
       "  </tbody>\n",
       "</table>\n",
       "</div>"
      ],
      "text/plain": [
       "   Nome_item  preco  peso\n",
       "0  chocolate     90     4\n",
       "1  chocolate     50     2\n",
       "2  chocolate     86     3\n",
       "3   biscoito     87     5\n",
       "4   biscoito     42     6\n",
       "5   biscoito     48     5\n",
       "6    sorvete     68     3\n",
       "7    sorvete     92     7\n",
       "8    sorvete    102     5"
      ]
     },
     "metadata": {},
     "output_type": "display_data"
    },
    {
     "name": "stdout",
     "output_type": "stream",
     "text": [
      "Nome_item\n",
      "biscoito     57.937500\n",
      "chocolate    79.777778\n",
      "sorvete      90.533333\n",
      "dtype: float64\n"
     ]
    },
    {
     "name": "stderr",
     "output_type": "stream",
     "text": [
      "/var/folders/_5/r9s84lfd44dfb8gp5xsshc340000gn/T/ipykernel_68396/2749898963.py:18: DeprecationWarning: DataFrameGroupBy.apply operated on the grouping columns. This behavior is deprecated, and in a future version of pandas the grouping columns will be excluded from the operation. Either pass `include_groups=False` to exclude the groupings or explicitly select the grouping columns after groupby to silence this warning.\n",
      "  medias = dados.groupby(\"Nome_item\").apply(media_ponderada, 'preco', 'peso')\n"
     ]
    }
   ],
   "source": [
    "import pandas as pd\n",
    "\n",
    "def media_ponderada(dataframe, col_valores, col_pesos):\n",
    "    valores = dataframe[col_valores]\n",
    "    pesos = dataframe[col_pesos]\n",
    "    if pesos.sum() == 0:\n",
    "        return 0\n",
    "    return (valores * pesos).sum() / pesos.sum()\n",
    "\n",
    "dados = pd.DataFrame({\n",
    "    'Nome_item': ['chocolate', 'chocolate', 'chocolate', 'biscoito', 'biscoito', 'biscoito', 'sorvete', 'sorvete', 'sorvete'],\n",
    "    'preco': [90, 50, 86, 87, 42, 48, 68, 92, 102],\n",
    "    'peso': [4, 2, 3, 5, 6, 5, 3, 7, 5]\n",
    "})\n",
    "\n",
    "display(dados)\n",
    "\n",
    "medias = dados.groupby(\"Nome_item\").apply(media_ponderada, 'preco', 'peso')\n",
    "print(medias)\n"
   ]
  },
  {
   "cell_type": "code",
   "execution_count": null,
   "metadata": {},
   "outputs": [],
   "source": []
  },
  {
   "cell_type": "markdown",
   "metadata": {},
   "source": []
  }
 ],
 "metadata": {
  "kernelspec": {
   "display_name": "base",
   "language": "python",
   "name": "python3"
  },
  "language_info": {
   "codemirror_mode": {
    "name": "ipython",
    "version": 3
   },
   "file_extension": ".py",
   "mimetype": "text/x-python",
   "name": "python",
   "nbconvert_exporter": "python",
   "pygments_lexer": "ipython3",
   "version": "3.12.7"
  }
 },
 "nbformat": 4,
 "nbformat_minor": 2
}
