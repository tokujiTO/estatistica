{
  "cells": [
    {
      "cell_type": "markdown",
      "metadata": {},
      "source": [
        "# **TTI109 - Estatística**\n",
        "# **Laboratório 11 - Teste de Hipótese para a Média**\n",
        "\n",
        "Nessa aula vamos aprender a:\n",
        "\n",
        "* Formular hipóteses\n",
        "* Aplicar o teste z para médias com desvio padrão conhecido\n",
        "* Aplicar o teste t para médias com desvio padrão desconhecido\n",
        "* Calcular e interpretar o valor crítico e o valor p\n",
        "* Tomada de decisão: Rejeitar ou não a hipótese nula com base nos resultados"
      ]
    },
    {
      "cell_type": "markdown",
      "metadata": {},
      "source": [
        "### **Exercício 1 - Teste unilateral à esquerda**\n",
        "\n",
        "Em corrida de carros, o *pit stop* é aonde um veículo vai para trocar pneus, abastecer, efetuar reparos e outros ajustes mecânicos. A eficiência de uma equipe que realiza esses ajustes pode afetar o resultado de uma corrida.\n",
        "\n",
        "Uma equipe afirma que seu tempo médio no *pit stop* (para 4 trocas de pneus e abastecimento) é menor que 13 segundos. Uma amostra aleatória de 32 tempos de *pit stop* tem uma média amostral de 12,9 segundos. Suponha que o desvio padrão populacional é de 0,19\n",
        "segundos. Há evidência suficiente para concordar com a afirmação para $\\alpha = 0,01$? Use um valor $p$."
      ]
    },
    {
      "cell_type": "code",
      "execution_count": 13,
      "metadata": {},
      "outputs": [
        {
          "name": "stdout",
          "output_type": "stream",
          "text": [
            "O valor da estatística de teste z é -2.98\n",
            "O valor de p é 0.0015\n",
            "Rejeitamos a hipótese nula\n"
          ]
        }
      ],
      "source": [
        "# Importa a biblioteca\n",
        "import scipy.stats as stats\n",
        "import math\n",
        "\n",
        "# Definir os parâmetros\n",
        "y = 13\n",
        "x = 12.9\n",
        "n = 32\n",
        "dp = 0.19\n",
        "a = 0.01\n",
        "\n",
        "# Calcular o valor da estatística de teste z\n",
        "z = (x - y) / (dp / math.sqrt(n))\n",
        "print(f\"O valor da estatística de teste z é {z:.2f}\")\n",
        "\n",
        "# Calcular o valor de p para o teste unilateral à esquerda\n",
        "p = stats.norm.cdf(z)\n",
        "\n",
        "# Imprimir os resultados\n",
        "print(f\"O valor de p é {p:.4f}\")\n",
        "\n",
        "# Verificar se rejeitamos ou não a hipótese nula\n",
        "print(f\"Rejeitamos a hipótese nula\") if p <= a else print(f\"Não rejeitamos a hipótese nula\")\n"
      ]
    },
    {
      "cell_type": "markdown",
      "metadata": {},
      "source": [
        "### Exercício 2 - Usando regiões de rejeição para um teste 𝑧\n",
        "\n",
        "Funcionários de uma companhia de construção e mineração afirmam que o salário médio dos engenheiros mecânicos é menor que o de um de seus concorrentes, que é de $\\$$ 68.000. Uma amostra aleatória de 20 engenheiros mecânicos da companhia tem um salário médio de $\\$$ 66.900.\n",
        "\n",
        "Suponha que o desvio padrão da população é de $\\$$ 5.500 sendo esta normalmente distribuída. Para $\\alpha = 0,05$, teste a afirmação dos\n",
        "funcionários."
      ]
    },
    {
      "cell_type": "code",
      "execution_count": 14,
      "metadata": {},
      "outputs": [
        {
          "name": "stdout",
          "output_type": "stream",
          "text": [
            "O valor da estatística de teste z é -0.89\n",
            "O valor crítico de z é -1.64\n",
            "Não rejeitamos a hipótese nula\n"
          ]
        }
      ],
      "source": [
        "# Importa a biblioteca\n",
        "import scipy.stats as stats\n",
        "import math\n",
        "\n",
        "# Definir os parâmetros\n",
        "y=68000\n",
        "n=20\n",
        "x=66900\n",
        "dp=5500\n",
        "a=0.05\n",
        "\n",
        "# Calcular o valor da estatística de teste z \n",
        "z = (x-y)/(dp/n**0.5)\n",
        "print(f\"O valor da estatística de teste z é {z:.2f}\")\n",
        "\n",
        "# Determinar a região de rejeição para o teste unilateral à esquerda\n",
        "zCritico = stats.norm.ppf(a)\n",
        "print(f\"O valor crítico de z é {zCritico:.2f}\")\n",
        "\n",
        "# Verificar se rejeitamos ou não a hipótese nula\n",
        "print(f\"Rejeitamos a hipótese nula\") if z <= zCritico else print(f\"Não rejeitamos a hipótese nula\")"
      ]
    },
    {
      "cell_type": "markdown",
      "metadata": {},
      "source": [
        "### **Exercício 3 - O teste *t* para uma média $\\mu$**\n",
        "\n",
        "Um vendedor de carros usados diz que o preço médio do sedan de dois anos (em boas condições) é de pelo menos US$ 20.500. Você suspeita que essa afirmação é incorreta e descobre que uma amostra aleatória de 14 veículos similares tem um preço médio de US$ 19.850 e desvio padrão de US$ 1.084.\n",
        "\n",
        "Há evidência suficiente para rejeitar a afirmação do vendedor para o nível de significância a = 0,05? \n",
        "\n",
        "Suponha que a população é normalmente distribuída. \n",
        "\n",
        "(Adaptado de: *Kelley Blue Book*)"
      ]
    },
    {
      "cell_type": "code",
      "execution_count": 22,
      "metadata": {},
      "outputs": [
        {
          "name": "stdout",
          "output_type": "stream",
          "text": [
            "O valor da estatística de teste t é -2.244\n",
            "O valor crítico de t é 1.771\n",
            "Rejeitamos a hipótese nula\n"
          ]
        }
      ],
      "source": [
        "# Importa a biblioteca\n",
        "import scipy.stats as stats\n",
        "\n",
        "# Definir os parâmetros\n",
        "y = 20500\n",
        "n = 14\n",
        "x = 19850\n",
        "dp = 1084\n",
        "a = 0.05\n",
        "\n",
        "# Calcular o valor da estatística de teste t\n",
        "t = (x - y) / (dp / n ** 0.5)\n",
        "print(f\"O valor da estatística de teste t é {t:.3f}\")\n",
        "\n",
        "# Determinar o valor crítico t para o nível de significância e graus de liberdade\n",
        "tCritico = stats.t.ppf(1-a, n-1)\n",
        "print(f\"O valor crítico de t é {tCritico:.3f}\")\n",
        "\n",
        "# Imprimir os resultados\n",
        "print(f\"Rejeitamos a hipótese nula\") if t <= tCritico else print(f\"Não rejeitamos a hipótese nula\")\n"
      ]
    },
    {
      "cell_type": "markdown",
      "metadata": {},
      "source": [
        "### Extra - Teste bilateral\n",
        "\n",
        "De acordo com um estudo, o custo médio de uma cirurgia bariátrica (perda de peso) é de US$ 21.500. Você acha que essa informação está incorreta e então seleciona aleatoriamente 25 pacientes que realizaram a cirurgia e descobre que o custo médio de suas cirurgias é de US$ 20.695.\n",
        "\n",
        "De estudos anteriores, o desvio padrão populacional é conhecido, US$ 2.250, e a população é normalmente distribuída. Há evidência suficiente para concordar com a afirmação para $\\alpha = 0,05$? Use um valor $p$.\n",
        "\n",
        "(Adaptado de: *The American Journal of Managed Care*)."
      ]
    },
    {
      "cell_type": "code",
      "execution_count": 20,
      "metadata": {},
      "outputs": [
        {
          "name": "stdout",
          "output_type": "stream",
          "text": [
            "O valor da estatística de teste z é -1.789\n",
            "O valor de p é 0.074\n",
            "Não rejeitamos a hipótese nula\n"
          ]
        }
      ],
      "source": [
        "# Importa a biblioteca\n",
        "import scipy.stats as stats\n",
        "\n",
        "# Definir os parâmetros\n",
        "y = 21500 \n",
        "n= 25\n",
        "x = 20695\n",
        "dp = 2250\n",
        "a = 0.05\n",
        "\n",
        "# Calcular o valor da estatística de teste z\n",
        "z = (x-y)/(dp/n**0.5)\n",
        "print(f\"O valor da estatística de teste z é {z:.3f}\")\n",
        "\n",
        "# Calcular o valor p\n",
        "p = 2 * (1 - stats.norm.cdf(abs(z)))\n",
        "print(f\"O valor de p é {p:.3f}\")\n",
        "\n",
        "# Verificar se rejeitamos ou não a hipótese nula\n",
        "print(f\"Rejeitamos a hipótese nula\") if p <= a else print(f\"Não rejeitamos a hipótese nula\")"
      ]
    }
  ],
  "metadata": {
    "colab": {
      "provenance": []
    },
    "kernelspec": {
      "display_name": "Python 3",
      "name": "python3"
    },
    "language_info": {
      "codemirror_mode": {
        "name": "ipython",
        "version": 3
      },
      "file_extension": ".py",
      "mimetype": "text/x-python",
      "name": "python",
      "nbconvert_exporter": "python",
      "pygments_lexer": "ipython3",
      "version": "3.12.6"
    }
  },
  "nbformat": 4,
  "nbformat_minor": 0
}
